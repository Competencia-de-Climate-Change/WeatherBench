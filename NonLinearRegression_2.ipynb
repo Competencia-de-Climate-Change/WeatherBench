{
 "cells": [
  {
   "cell_type": "code",
   "execution_count": 1,
   "metadata": {},
   "outputs": [],
   "source": [
    "# Colab cell\n",
    "try:\n",
    "    import google.colab\n",
    "    IN_COLAB = True\n",
    "    !wget -q https://raw.githubusercontent.com/Competencia-de-Climate-Change/WeatherBench/master/src/ml_training.py\n",
    "    !pip install -q -U zarr\n",
    "    !pip install -q -U fsspec\n",
    "    !pip install -q -U gcsfs\n",
    "    !pip install -q -U xarray\n",
    "except:\n",
    "    IN_COLAB = False"
   ]
  },
  {
   "cell_type": "code",
   "execution_count": 2,
   "metadata": {
    "colab": {
     "base_uri": "https://localhost:8080/",
     "height": 35
    },
    "colab_type": "code",
    "executionInfo": {
     "elapsed": 22299,
     "status": "ok",
     "timestamp": 1594843532788,
     "user": {
      "displayName": "VICTOR STEFANO ANDREAS FARAGGI",
      "photoUrl": "",
      "userId": "08460300967747505700"
     },
     "user_tz": 240
    },
    "id": "2C52-UCvd2ho",
    "outputId": "50d6ad5d-bba3-49d3-b2dc-3fadddd23c20"
   },
   "outputs": [
    {
     "name": "stdout",
     "output_type": "stream",
     "text": [
      "Tamaño en GB: 19.324476644\n"
     ]
    }
   ],
   "source": [
    "import xarray as xr\n",
    "import fsspec\n",
    "\n",
    "ds = xr.open_zarr(fsspec.get_mapper('gcs://weather-bench/region_zarr/'), consolidated=True)\n",
    "\n",
    "print(\"Tamaño en GB:\", ds.nbytes / 1e9)"
   ]
  },
  {
   "cell_type": "markdown",
   "metadata": {
    "colab_type": "text",
    "id": "hlCGn59vv6hh"
   },
   "source": [
    "# Polynomial Linear Regression for $T850$ and $T2M$"
   ]
  },
  {
   "cell_type": "code",
   "execution_count": 3,
   "metadata": {
    "colab": {},
    "colab_type": "code",
    "executionInfo": {
     "elapsed": 22611,
     "status": "ok",
     "timestamp": 1594843533116,
     "user": {
      "displayName": "VICTOR STEFANO ANDREAS FARAGGI",
      "photoUrl": "",
      "userId": "08460300967747505700"
     },
     "user_tz": 240
    },
    "id": "3uUsfe4Eeeun"
   },
   "outputs": [
    {
     "name": "stderr",
     "output_type": "stream",
     "text": [
      "/opt/tljh/user/lib/python3.7/site-packages/ipykernel_launcher.py:3: TqdmExperimentalWarning: Using `tqdm.autonotebook.tqdm` in notebook mode. Use `tqdm.tqdm` instead to force console mode (e.g. in jupyter console)\n",
      "  This is separate from the ipykernel package so we can avoid doing imports until\n"
     ]
    }
   ],
   "source": [
    "import numpy as np\n",
    "import matplotlib.pyplot as plt\n",
    "from tqdm.autonotebook import tqdm\n",
    "import pickle\n",
    "\n",
    "from src.ml_training import *\n",
    "\n",
    "# from dask_ml.wrappers import ParallelPostFit\n",
    "\n",
    "def to_pickle(obj, fn):\n",
    "    try:\n",
    "        with open(fn, 'wb') as f:\n",
    "            pickle.dump(obj, f)\n",
    "    except AttributeError:\n",
    "        obj.to_pickle(fn)\n",
    "def read_pickle(fn):\n",
    "    with open(fn, 'rb') as f:\n",
    "        return pickle.load(f)\n",
    "    \n",
    "results = 'results'\n",
    "verbose = False\n",
    "\n",
    "import os\n",
    "if not os.path.exists(results):\n",
    "    os.makedirs(results)"
   ]
  },
  {
   "cell_type": "markdown",
   "metadata": {
    "colab_type": "text",
    "id": "jh2EBpEIvpqO"
   },
   "source": [
    "## Data Loading"
   ]
  },
  {
   "cell_type": "code",
   "execution_count": 4,
   "metadata": {
    "colab": {
     "base_uri": "https://localhost:8080/",
     "height": 71
    },
    "colab_type": "code",
    "executionInfo": {
     "elapsed": 22603,
     "status": "ok",
     "timestamp": 1594843533120,
     "user": {
      "displayName": "VICTOR STEFANO ANDREAS FARAGGI",
      "photoUrl": "",
      "userId": "08460300967747505700"
     },
     "user_tz": 240
    },
    "id": "1wR17HkreyLu",
    "outputId": "213a4a5f-8a0d-4ddd-ab29-274a12552472"
   },
   "outputs": [
    {
     "name": "stdout",
     "output_type": "stream",
     "text": [
      "Selecting from ds...\n"
     ]
    },
    {
     "data": {
      "text/plain": [
       "(12, 14)"
      ]
     },
     "execution_count": 4,
     "metadata": {},
     "output_type": "execute_result"
    }
   ],
   "source": [
    "z_500 = ds.z.sel(level=500).drop('level')\n",
    "t_850 = ds.t.sel(level=850).drop('level')\n",
    "\n",
    "t2m   = ds.t2m\n",
    "\n",
    "data = xr.merge([z_500, t_850, t2m])\n",
    "\n",
    "data_train = data.sel(time=slice('1979', '2000'))\n",
    "data_test  = data.sel(time=slice('2001', '2005'))\n",
    "\n",
    "t_test   = load_test_data('t', ds=ds, years=slice('2001', '2005'))\n",
    "t2m_test = load_test_data('t2m', ds=ds, years=slice('2001', '2005'))\n",
    "\n",
    "test_data = xr.merge([t_test, t2m_test])\n",
    "\n",
    "_, nlat, nlon = data_train.z.shape\n",
    "\n",
    "nlat, nlon"
   ]
  },
  {
   "cell_type": "code",
   "execution_count": 5,
   "metadata": {
    "colab": {},
    "colab_type": "code",
    "executionInfo": {
     "elapsed": 36484,
     "status": "ok",
     "timestamp": 1594843547008,
     "user": {
      "displayName": "VICTOR STEFANO ANDREAS FARAGGI",
      "photoUrl": "",
      "userId": "08460300967747505700"
     },
     "user_tz": 240
    },
    "id": "FwDNuO3bnkQj"
   },
   "outputs": [],
   "source": [
    "# Compute normalization statistics\n",
    "# Let's only take a sample of the time to speed this up.\n",
    "data_mean = data_train.isel(time=slice(0, None, 10000)).mean().load()\n",
    "data_std  = data_train.isel(time=slice(0, None, 10000)).std().load()\n",
    "\n",
    "\n",
    "# Normalize datasets\n",
    "data_train = (data_train - data_mean) / data_std\n",
    "data_test  = (data_test - data_mean)  / data_std"
   ]
  },
  {
   "cell_type": "markdown",
   "metadata": {
    "colab_type": "text",
    "id": "YGqHJ3jxwF8o"
   },
   "source": [
    "### Define combinations of training data"
   ]
  },
  {
   "cell_type": "code",
   "execution_count": 6,
   "metadata": {
    "colab": {},
    "colab_type": "code",
    "executionInfo": {
     "elapsed": 36477,
     "status": "ok",
     "timestamp": 1594843547010,
     "user": {
      "displayName": "VICTOR STEFANO ANDREAS FARAGGI",
      "photoUrl": "",
      "userId": "08460300967747505700"
     },
     "user_tz": 240
    },
    "id": "rc04j0bTivnw"
   },
   "outputs": [],
   "source": [
    "# Inputs and Outputs\n",
    "experiments = [\n",
    "    [['t'],             ['t']],\n",
    "    [['z', 't'],        ['t']],\n",
    "    [['z', 't', 't2m'], ['t']],\n",
    "    [['t2m'],           ['t2m']],\n",
    "    [['z', 't'],        ['t2m']],\n",
    "    [['z', 't', 't2m'], ['t2m']],\n",
    "]\n",
    "\n",
    "lead_time = 3*24 # Predict 3 days from current time\n",
    "lead_time_str = '3d'"
   ]
  },
  {
   "cell_type": "code",
   "execution_count": 7,
   "metadata": {},
   "outputs": [],
   "source": [
    "from sklearn.linear_model import LinearRegression\n",
    "from sklearn.linear_model import Ridge"
   ]
  },
  {
   "cell_type": "code",
   "execution_count": 8,
   "metadata": {},
   "outputs": [],
   "source": [
    "from src.non_linear_regression import *"
   ]
  },
  {
   "cell_type": "code",
   "execution_count": 9,
   "metadata": {},
   "outputs": [],
   "source": [
    "preds  = {\n",
    "    'poly_2'        : [],\n",
    "    'poly_3'        : [],\n",
    "    'poly_cv'        : [],\n",
    "}\n",
    "\n",
    "models = {\n",
    "    'poly_2'        : [],\n",
    "    'poly_3'        : [],\n",
    "    'poly_cv'        : [],\n",
    "}\n",
    "\n",
    "train_mse = {\n",
    "    'poly_2'        : [],\n",
    "    'poly_3'        : [],\n",
    "    'poly_cv'        : [],\n",
    "}\n",
    "\n",
    "test_mse = {\n",
    "    'poly_2'        : [],\n",
    "    'poly_3'        : [],\n",
    "    'poly_cv'        : [],\n",
    "}\n",
    "\n",
    "weighted_mse = {\n",
    "    'poly_2'        : [],\n",
    "    'poly_3'        : [],\n",
    "    'poly_cv'        : [],\n",
    "}\n",
    "\n",
    "max_grad = 30\n",
    "\n",
    "model_args = [\n",
    "    [\n",
    "        NonLinearRegression,       \n",
    "        'poly_2', \n",
    "        {\n",
    "            'model': LinearRegression, \n",
    "            'kind': 'poly', \n",
    "            'transform_params': {'degree': 2},\n",
    "            'model_params': {'n_jobs': -1}\n",
    "        }\n",
    "    ], \n",
    "    [\n",
    "        NonLinearRegression,\n",
    "        'poly_3', \n",
    "        {\n",
    "            'model': LinearRegression, \n",
    "            'kind': 'poly', \n",
    "            'transform_params': {'degree': 3},\n",
    "            'model_params': {'n_jobs': -1}\n",
    "        }\n",
    "    ], \n",
    "    [\n",
    "        PolynomialRegressionCV,\n",
    "        'poly_cv', \n",
    "        {\n",
    "            'model': LinearRegression,  \n",
    "            'degrees': range(1, max_grad + 1, max_grad//4),\n",
    "            'model_params': {'n_jobs': -1}\n",
    "        }\n",
    "    ], \n",
    "]"
   ]
  },
  {
   "cell_type": "markdown",
   "metadata": {
    "colab_type": "text",
    "id": "M0V51OcjwLco"
   },
   "source": [
    "## Run Experiments"
   ]
  },
  {
   "cell_type": "code",
   "execution_count": null,
   "metadata": {
    "colab": {
     "base_uri": "https://localhost:8080/",
     "height": 644
    },
    "colab_type": "code",
    "executionInfo": {
     "elapsed": 218645,
     "status": "ok",
     "timestamp": 1594843729184,
     "user": {
      "displayName": "VICTOR STEFANO ANDREAS FARAGGI",
      "photoUrl": "",
      "userId": "08460300967747505700"
     },
     "user_tz": 240
    },
    "id": "hpiEmzkhizzN",
    "outputId": "38f9473a-a74f-406e-d6ac-6512c64c966f",
    "scrolled": false
   },
   "outputs": [
    {
     "name": "stdout",
     "output_type": "stream",
     "text": [
      "Running: poly_2\n",
      "0: Input variables = ['t']; output variables = ['t']\n",
      "1: Input variables = ['z', 't']; output variables = ['t']\n",
      "2: Input variables = ['z', 't', 't2m']; output variables = ['t']\n",
      "3: Input variables = ['t2m']; output variables = ['t2m']\n",
      "4: Input variables = ['z', 't']; output variables = ['t2m']\n",
      "5: Input variables = ['z', 't', 't2m']; output variables = ['t2m']\n",
      "----------------------------------------------------------------------------\n",
      "Running: poly_3\n",
      "0: Input variables = ['t']; output variables = ['t']\n",
      "1: Input variables = ['z', 't']; output variables = ['t']\n",
      "2: Input variables = ['z', 't', 't2m']; output variables = ['t']\n",
      "3: Input variables = ['t2m']; output variables = ['t2m']\n",
      "4: Input variables = ['z', 't']; output variables = ['t2m']\n",
      "5: Input variables = ['z', 't', 't2m']; output variables = ['t2m']\n",
      "----------------------------------------------------------------------------\n",
      "Running: poly_cv\n",
      "0: Input variables = ['t']; output variables = ['t']\n"
     ]
    },
    {
     "name": "stderr",
     "output_type": "stream",
     "text": [
      "100%|██████████| 5/5 [01:37<00:00, 19.55s/it]\n"
     ]
    },
    {
     "name": "stdout",
     "output_type": "stream",
     "text": [
      "Refitting best model...\n",
      "1: Input variables = ['z', 't']; output variables = ['t']\n"
     ]
    }
   ],
   "source": [
    "for model in model_args:\n",
    "    model_fun, model_str, extra_args = model\n",
    "    \n",
    "    print('Running:', model_str)\n",
    "    for idx, (i, o) in enumerate(experiments):\n",
    "        print(f'{idx}: Input variables = {i}; output variables = {o}')\n",
    "        \n",
    "        X_train, y_train, X_test, y_test, time = create_X_y_time(input_vars=i, \n",
    "                                                                 output_vars=o, \n",
    "                                                                 data=[data_train, data_test], \n",
    "                                                                 lead_time=lead_time, \n",
    "                                                                 data_subsample=5)\n",
    "        \n",
    "        data_needed_train = [X_train, y_train, X_test, y_test, nlat, nlon]\n",
    "        \n",
    "        predictions, model_res, mse_train, mse_test = train_regression(model=model_fun,\n",
    "                                                                       data=data_needed_train,\n",
    "                                                                       num_outputs=len(o),\n",
    "                                                                       extra_args=extra_args,\n",
    "                                                                       verbose=False)\n",
    "        \n",
    "        predictions = unnormalize_preds(preds=predictions, \n",
    "                                        output_vars=o, \n",
    "                                        valid_time=time, \n",
    "                                        lat_lon=[data_train.lat, data_train.lon],\n",
    "                                        data_std=data_std, \n",
    "                                        data_mean=data_mean)\n",
    "\n",
    "        preds[model_str].append(predictions)\n",
    "        models[model_str].append(model_res)\n",
    "        \n",
    "        # Compute Weighted RMSE: RMSE with a weight that takes into account grid location\n",
    "        r = compute_weighted_rmse(predictions, test_data).compute()\n",
    "        if verbose:\n",
    "            print('; '.join([f'{v} = {r[v].values}' for v in r]) + '\\n')\n",
    "        \n",
    "        train_mse[model_str].append(mse_train)\n",
    "        test_mse[model_str].append(mse_test)\n",
    "        weighted_mse[model_str].append(r)\n",
    "        \n",
    "        # Save models\n",
    "        preds_nc_str  = f'{results}/{model_str}_{lead_time_str}_{\"_\".join(i)}_{\"_\".join(o)}.nc'\n",
    "        model_res_str = f'{results}/{model_str}_{lead_time_str}_{\"_\".join(i)}_{\"_\".join(o)}.pkl'\n",
    "        \n",
    "        predictions.to_netcdf(preds_nc_str)\n",
    "        to_pickle(model_res, model_res_str)\n",
    "    print('----------------------------------------------------------------------------')"
   ]
  },
  {
   "cell_type": "code",
   "execution_count": null,
   "metadata": {},
   "outputs": [],
   "source": [
    "import pandas as pd\n",
    "\n",
    "results_df = pd.DataFrame(columns=['model', 'input', 'output',  'train_mse', 'test_mse', 'weighted_mse'])\n",
    "\n",
    "block_rows = []\n",
    "for key in models.keys():\n",
    "    print(key)\n",
    "    # repeat key as many time as needed to have a long df\n",
    "    first_three_cols = np.hstack((np.array([key] * len(experiments)).reshape(len(experiments),1), \n",
    "                                  np.array(experiments, dtype='object')))\n",
    "    block_rows.append(first_three_cols)\n",
    "    \n",
    "block_rows = np.array(block_rows).reshape(len(models.keys()) * len(experiments), 3) \n",
    "\n",
    "results_df['model'] = block_rows[:, 0]\n",
    "results_df['input'] = block_rows[:, 1]\n",
    "results_df['output'] = block_rows[:, 2]\n",
    "\n",
    "\n",
    "train_mse_col = []\n",
    "for model, ds_list in train_mse.items():\n",
    "    train_mse_col += ds_list\n",
    "\n",
    "test_mse_col = []\n",
    "for model, ds_list in test_mse.items():\n",
    "    test_mse_col += ds_list\n",
    "    \n",
    "\n",
    "weighted_mse_col = []\n",
    "for model, ds_list in weighted_mse.items():\n",
    "    print(model)\n",
    "    model_metrics = []\n",
    "    for ds in ds_list:\n",
    "        exp_metrics = []\n",
    "        for var in list(ds.variables):\n",
    "            exp_metrics.append(round(float(ds[var].values), 4))\n",
    "\n",
    "        model_metrics.append(exp_metrics)\n",
    "    weighted_mse_col += model_metrics\n",
    "\n",
    "    \n",
    "print('\\nNumber of rows equals number of metrics? ', results_df.shape[0] == len(train_mse_col))\n",
    "print(results_df.shape[0], len(train_mse_col))\n",
    "\n",
    "\n",
    "results_df['train_mse'] = train_mse_col\n",
    "results_df['test_mse'] = test_mse_col\n",
    "\n",
    "results_df['weighted_mse'] = weighted_mse_col\n",
    "results_df['weighted_mse'] = results_df['weighted_mse'].apply(lambda x : x[0])\n",
    "\n",
    "results_df['output'] = results_df['output'].apply(lambda x: x[0])\n",
    "\n",
    "results_df.to_csv('results_poly.csv')\n",
    "\n",
    "results_df"
   ]
  },
  {
   "cell_type": "code",
   "execution_count": null,
   "metadata": {},
   "outputs": [],
   "source": [
    "import seaborn as sns\n",
    "sns.set_style('darkgrid')"
   ]
  },
  {
   "cell_type": "code",
   "execution_count": null,
   "metadata": {
    "colab": {},
    "colab_type": "code",
    "executionInfo": {
     "elapsed": 987950,
     "status": "ok",
     "timestamp": 1594844498531,
     "user": {
      "displayName": "VICTOR STEFANO ANDREAS FARAGGI",
      "photoUrl": "",
      "userId": "08460300967747505700"
     },
     "user_tz": 240
    },
    "id": "kPXhJzIuKw4G"
   },
   "outputs": [],
   "source": [
    "f, axs = plt.subplots(nrows=1, ncols=3, figsize=(18, 5))\n",
    "\n",
    "sns.lineplot(data=results_df, x='model', y='train_mse', hue='output', ax=axs[0])\n",
    "sns.lineplot(data=results_df, x='model', y='test_mse',  hue='output',ax=axs[1])\n",
    "sns.lineplot(data=results_df, x='model', y='weighted_mse', hue='output', ax=axs[2])\n",
    "\n",
    "plt.savefig('results/poly_mse.png')\n",
    "plt.show()"
   ]
  },
  {
   "cell_type": "code",
   "execution_count": null,
   "metadata": {},
   "outputs": [],
   "source": [
    "# best_pred_t2m = xr.open_dataset('results/poly_3d_t2m_t2m.nc')\n",
    "# best_pred_t2m.t2m.mean('time').plot()\n",
    "# plt.show()\n",
    "\n",
    "# (best_pred_t2m - (data_test * data_std + data_mean)['t2m']).mean('time').t2m.plot()\n",
    "# f.savefig('results/poly_3d_t2m_t2m__difference.png')\n",
    "# plt.show()"
   ]
  },
  {
   "cell_type": "code",
   "execution_count": null,
   "metadata": {},
   "outputs": [],
   "source": [
    "# best_pred_t = xr.open_dataset('results/poly_3d_t_t.nc')\n",
    "# best_pred_t.t.mean('time').plot()\n",
    "# plt.show()\n",
    "\n",
    "# (best_pred_t - (data_test * data_std + data_mean)).mean('time')['t'].plot()\n",
    "# f.savefig('results/poly_3d_t_t__difference.png')\n",
    "# plt.show()"
   ]
  }
 ],
 "metadata": {
  "colab": {
   "authorship_tag": "ABX9TyOTr8q3dvXGGpE+a+GL1+es",
   "collapsed_sections": [],
   "name": "ProyectoProbStatsDA - LinearRegression_1.ipynb",
   "provenance": []
  },
  "kernelspec": {
   "display_name": "Python 3",
   "language": "python",
   "name": "python3"
  },
  "language_info": {
   "codemirror_mode": {
    "name": "ipython",
    "version": 3
   },
   "file_extension": ".py",
   "mimetype": "text/x-python",
   "name": "python",
   "nbconvert_exporter": "python",
   "pygments_lexer": "ipython3",
   "version": "3.7.3"
  },
  "widgets": {
   "application/vnd.jupyter.widget-state+json": {
    "082dd7cc9ae14b61a2489f915627285e": {
     "model_module": "@jupyter-widgets/base",
     "model_name": "LayoutModel",
     "state": {
      "_model_module": "@jupyter-widgets/base",
      "_model_module_version": "1.2.0",
      "_model_name": "LayoutModel",
      "_view_count": null,
      "_view_module": "@jupyter-widgets/base",
      "_view_module_version": "1.2.0",
      "_view_name": "LayoutView",
      "align_content": null,
      "align_items": null,
      "align_self": null,
      "border": null,
      "bottom": null,
      "display": null,
      "flex": null,
      "flex_flow": null,
      "grid_area": null,
      "grid_auto_columns": null,
      "grid_auto_flow": null,
      "grid_auto_rows": null,
      "grid_column": null,
      "grid_gap": null,
      "grid_row": null,
      "grid_template_areas": null,
      "grid_template_columns": null,
      "grid_template_rows": null,
      "height": null,
      "justify_content": null,
      "justify_items": null,
      "left": null,
      "margin": null,
      "max_height": null,
      "max_width": null,
      "min_height": null,
      "min_width": null,
      "object_fit": null,
      "object_position": null,
      "order": null,
      "overflow": null,
      "overflow_x": null,
      "overflow_y": null,
      "padding": null,
      "right": null,
      "top": null,
      "visibility": null,
      "width": null
     }
    },
    "1910f13a9f4f41f19204694e234aae0e": {
     "model_module": "@jupyter-widgets/base",
     "model_name": "LayoutModel",
     "state": {
      "_model_module": "@jupyter-widgets/base",
      "_model_module_version": "1.2.0",
      "_model_name": "LayoutModel",
      "_view_count": null,
      "_view_module": "@jupyter-widgets/base",
      "_view_module_version": "1.2.0",
      "_view_name": "LayoutView",
      "align_content": null,
      "align_items": null,
      "align_self": null,
      "border": null,
      "bottom": null,
      "display": null,
      "flex": null,
      "flex_flow": null,
      "grid_area": null,
      "grid_auto_columns": null,
      "grid_auto_flow": null,
      "grid_auto_rows": null,
      "grid_column": null,
      "grid_gap": null,
      "grid_row": null,
      "grid_template_areas": null,
      "grid_template_columns": null,
      "grid_template_rows": null,
      "height": null,
      "justify_content": null,
      "justify_items": null,
      "left": null,
      "margin": null,
      "max_height": null,
      "max_width": null,
      "min_height": null,
      "min_width": null,
      "object_fit": null,
      "object_position": null,
      "order": null,
      "overflow": null,
      "overflow_x": null,
      "overflow_y": null,
      "padding": null,
      "right": null,
      "top": null,
      "visibility": null,
      "width": null
     }
    },
    "1a7e4ab2a400435ebbcb87010eaaaa49": {
     "model_module": "@jupyter-widgets/controls",
     "model_name": "FloatProgressModel",
     "state": {
      "_dom_classes": [],
      "_model_module": "@jupyter-widgets/controls",
      "_model_module_version": "1.5.0",
      "_model_name": "FloatProgressModel",
      "_view_count": null,
      "_view_module": "@jupyter-widgets/controls",
      "_view_module_version": "1.5.0",
      "_view_name": "ProgressView",
      "bar_style": "success",
      "description": "100%",
      "description_tooltip": null,
      "layout": "IPY_MODEL_1910f13a9f4f41f19204694e234aae0e",
      "max": 20,
      "min": 0,
      "orientation": "horizontal",
      "style": "IPY_MODEL_d08e0f2bbeee4720b62f2b3c7ce8c36b",
      "value": 20
     }
    },
    "4dd7367715114f2cb8e71586521dd7be": {
     "model_module": "@jupyter-widgets/controls",
     "model_name": "HTMLModel",
     "state": {
      "_dom_classes": [],
      "_model_module": "@jupyter-widgets/controls",
      "_model_module_version": "1.5.0",
      "_model_name": "HTMLModel",
      "_view_count": null,
      "_view_module": "@jupyter-widgets/controls",
      "_view_module_version": "1.5.0",
      "_view_name": "HTMLView",
      "description": "",
      "description_tooltip": null,
      "layout": "IPY_MODEL_082dd7cc9ae14b61a2489f915627285e",
      "placeholder": "​",
      "style": "IPY_MODEL_8ecf29118794450ba70618957acad07d",
      "value": " 20/20 [00:02&lt;00:00,  8.22it/s]"
     }
    },
    "67634b29066a4884992a64e4284d24c4": {
     "model_module": "@jupyter-widgets/controls",
     "model_name": "HBoxModel",
     "state": {
      "_dom_classes": [],
      "_model_module": "@jupyter-widgets/controls",
      "_model_module_version": "1.5.0",
      "_model_name": "HBoxModel",
      "_view_count": null,
      "_view_module": "@jupyter-widgets/controls",
      "_view_module_version": "1.5.0",
      "_view_name": "HBoxView",
      "box_style": "",
      "children": [
       "IPY_MODEL_1a7e4ab2a400435ebbcb87010eaaaa49",
       "IPY_MODEL_4dd7367715114f2cb8e71586521dd7be"
      ],
      "layout": "IPY_MODEL_7a512212bd8445d4a0833b1d8936ac02"
     }
    },
    "7a512212bd8445d4a0833b1d8936ac02": {
     "model_module": "@jupyter-widgets/base",
     "model_name": "LayoutModel",
     "state": {
      "_model_module": "@jupyter-widgets/base",
      "_model_module_version": "1.2.0",
      "_model_name": "LayoutModel",
      "_view_count": null,
      "_view_module": "@jupyter-widgets/base",
      "_view_module_version": "1.2.0",
      "_view_name": "LayoutView",
      "align_content": null,
      "align_items": null,
      "align_self": null,
      "border": null,
      "bottom": null,
      "display": null,
      "flex": null,
      "flex_flow": null,
      "grid_area": null,
      "grid_auto_columns": null,
      "grid_auto_flow": null,
      "grid_auto_rows": null,
      "grid_column": null,
      "grid_gap": null,
      "grid_row": null,
      "grid_template_areas": null,
      "grid_template_columns": null,
      "grid_template_rows": null,
      "height": null,
      "justify_content": null,
      "justify_items": null,
      "left": null,
      "margin": null,
      "max_height": null,
      "max_width": null,
      "min_height": null,
      "min_width": null,
      "object_fit": null,
      "object_position": null,
      "order": null,
      "overflow": null,
      "overflow_x": null,
      "overflow_y": null,
      "padding": null,
      "right": null,
      "top": null,
      "visibility": null,
      "width": null
     }
    },
    "8ecf29118794450ba70618957acad07d": {
     "model_module": "@jupyter-widgets/controls",
     "model_name": "DescriptionStyleModel",
     "state": {
      "_model_module": "@jupyter-widgets/controls",
      "_model_module_version": "1.5.0",
      "_model_name": "DescriptionStyleModel",
      "_view_count": null,
      "_view_module": "@jupyter-widgets/base",
      "_view_module_version": "1.2.0",
      "_view_name": "StyleView",
      "description_width": ""
     }
    },
    "d08e0f2bbeee4720b62f2b3c7ce8c36b": {
     "model_module": "@jupyter-widgets/controls",
     "model_name": "ProgressStyleModel",
     "state": {
      "_model_module": "@jupyter-widgets/controls",
      "_model_module_version": "1.5.0",
      "_model_name": "ProgressStyleModel",
      "_view_count": null,
      "_view_module": "@jupyter-widgets/base",
      "_view_module_version": "1.2.0",
      "_view_name": "StyleView",
      "bar_color": null,
      "description_width": "initial"
     }
    }
   }
  }
 },
 "nbformat": 4,
 "nbformat_minor": 1
}
