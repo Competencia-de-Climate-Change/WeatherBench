{
 "cells": [
  {
   "cell_type": "code",
   "execution_count": 1,
   "metadata": {},
   "outputs": [],
   "source": [
    "# Colab cell\n",
    "try:\n",
    "    import google.colab\n",
    "    IN_COLAB = True\n",
    "    !wget -q https://raw.githubusercontent.com/Competencia-de-Climate-Change/WeatherBench/master/src/ml_training.py\n",
    "    !pip install -q -U zarr\n",
    "    !pip install -q -U fsspec\n",
    "    !pip install -q -U gcsfs\n",
    "    !pip install -q -U xarray\n",
    "except:\n",
    "    IN_COLAB = False"
   ]
  },
  {
   "cell_type": "code",
   "execution_count": 2,
   "metadata": {},
   "outputs": [],
   "source": [
    "%load_ext autoreload\n",
    "%autoreload 2"
   ]
  },
  {
   "cell_type": "code",
   "execution_count": 3,
   "metadata": {
    "colab": {
     "base_uri": "https://localhost:8080/",
     "height": 35
    },
    "colab_type": "code",
    "executionInfo": {
     "elapsed": 22299,
     "status": "ok",
     "timestamp": 1594843532788,
     "user": {
      "displayName": "VICTOR STEFANO ANDREAS FARAGGI",
      "photoUrl": "",
      "userId": "08460300967747505700"
     },
     "user_tz": 240
    },
    "id": "2C52-UCvd2ho",
    "outputId": "50d6ad5d-bba3-49d3-b2dc-3fadddd23c20"
   },
   "outputs": [
    {
     "name": "stdout",
     "output_type": "stream",
     "text": [
      "Tamaño en GB: 16.564237876\n"
     ]
    }
   ],
   "source": [
    "import xarray as xr\n",
    "import fsspec\n",
    "\n",
    "ds = xr.open_zarr(fsspec.get_mapper('gcs://weather-bench/region_zarr/'), consolidated=True)\n",
    "ds = ds.isel(lon=slice(0,12))\n",
    "\n",
    "print(\"Tamaño en GB:\", ds.nbytes / 1e9)"
   ]
  },
  {
   "cell_type": "markdown",
   "metadata": {
    "colab_type": "text",
    "id": "hlCGn59vv6hh"
   },
   "source": [
    "# Neural Networks for $T850$ and $T2M$"
   ]
  },
  {
   "cell_type": "code",
   "execution_count": 4,
   "metadata": {
    "colab": {},
    "colab_type": "code",
    "executionInfo": {
     "elapsed": 22611,
     "status": "ok",
     "timestamp": 1594843533116,
     "user": {
      "displayName": "VICTOR STEFANO ANDREAS FARAGGI",
      "photoUrl": "",
      "userId": "08460300967747505700"
     },
     "user_tz": 240
    },
    "id": "3uUsfe4Eeeun"
   },
   "outputs": [
    {
     "name": "stderr",
     "output_type": "stream",
     "text": [
      "/opt/tljh/user/lib/python3.7/site-packages/ipykernel_launcher.py:3: TqdmExperimentalWarning: Using `tqdm.autonotebook.tqdm` in notebook mode. Use `tqdm.tqdm` instead to force console mode (e.g. in jupyter console)\n",
      "  This is separate from the ipykernel package so we can avoid doing imports until\n"
     ]
    }
   ],
   "source": [
    "import numpy as np\n",
    "import matplotlib.pyplot as plt\n",
    "from tqdm.autonotebook import tqdm\n",
    "import pickle\n",
    "\n",
    "from src.ml_training import *\n",
    "\n",
    "# from dask_ml.wrappers import ParallelPostFit\n",
    "\n",
    "def to_pickle(obj, fn):\n",
    "    try:\n",
    "        with open(fn, 'wb') as f:\n",
    "            pickle.dump(obj, f)\n",
    "    except AttributeError:\n",
    "        obj.to_pickle(fn)\n",
    "def read_pickle(fn):\n",
    "    with open(fn, 'rb') as f:\n",
    "        return pickle.load(f)\n",
    "    \n",
    "results = 'results'\n",
    "verbose = False\n",
    "\n",
    "import os\n",
    "if not os.path.exists(results):\n",
    "    os.makedirs(results)"
   ]
  },
  {
   "cell_type": "markdown",
   "metadata": {
    "colab_type": "text",
    "id": "jh2EBpEIvpqO"
   },
   "source": [
    "## Data Loading"
   ]
  },
  {
   "cell_type": "code",
   "execution_count": 5,
   "metadata": {
    "colab": {
     "base_uri": "https://localhost:8080/",
     "height": 71
    },
    "colab_type": "code",
    "executionInfo": {
     "elapsed": 22603,
     "status": "ok",
     "timestamp": 1594843533120,
     "user": {
      "displayName": "VICTOR STEFANO ANDREAS FARAGGI",
      "photoUrl": "",
      "userId": "08460300967747505700"
     },
     "user_tz": 240
    },
    "id": "1wR17HkreyLu",
    "outputId": "213a4a5f-8a0d-4ddd-ab29-274a12552472"
   },
   "outputs": [
    {
     "data": {
      "text/plain": [
       "(12, 12)"
      ]
     },
     "execution_count": 5,
     "metadata": {},
     "output_type": "execute_result"
    }
   ],
   "source": [
    "z_500 = ds.z.sel(level=500).drop('level')\n",
    "t_850 = ds.t.sel(level=850).drop('level')\n",
    "\n",
    "t2m   = ds.t2m\n",
    "\n",
    "data = xr.merge([z_500, t_850, t2m])\n",
    "\n",
    "data_train = data.sel(time=slice('1979', '2000'))\n",
    "data_test  = data.sel(time=slice('2001', '2005'))\n",
    "\n",
    "# t_test   = load_test_data('t', ds=ds, years=slice('2001', '2005'))\n",
    "# t2m_test = load_test_data('t2m', ds=ds, years=slice('2001', '2005'))\n",
    "\n",
    "# test_data = xr.merge([t_test, t2m_test])\n",
    "\n",
    "_, nlat, nlon = data_train.z.shape\n",
    "\n",
    "nlat, nlon"
   ]
  },
  {
   "cell_type": "code",
   "execution_count": 6,
   "metadata": {
    "colab": {},
    "colab_type": "code",
    "executionInfo": {
     "elapsed": 36484,
     "status": "ok",
     "timestamp": 1594843547008,
     "user": {
      "displayName": "VICTOR STEFANO ANDREAS FARAGGI",
      "photoUrl": "",
      "userId": "08460300967747505700"
     },
     "user_tz": 240
    },
    "id": "FwDNuO3bnkQj"
   },
   "outputs": [],
   "source": [
    "# Compute normalization statistics\n",
    "# Let's only take a sample of the time to speed this up.\n",
    "# data_mean = data.isel(time=slice(0, None, 10000)).mean('time').load()\n",
    "# data_std  = data.isel(time=slice(0, None, 10000)).std('time').load()\n",
    "\n",
    "data_max  = data.max().load()\n",
    "data_min  = data.min().load()"
   ]
  },
  {
   "cell_type": "code",
   "execution_count": 7,
   "metadata": {},
   "outputs": [],
   "source": [
    "# Normalize datasets\n",
    "# train_standard = (data_train - data_mean) / data_std\n",
    "# test_standard  = (data_test - data_mean)  / data_std\n",
    "\n",
    "train_min_max = (data_train - data_min) / (data_max - data_min)\n",
    "test_min_max = (data_test - data_min) / (data_max - data_min)"
   ]
  },
  {
   "cell_type": "markdown",
   "metadata": {
    "colab_type": "text",
    "id": "YGqHJ3jxwF8o"
   },
   "source": [
    "### Define combinations of training data"
   ]
  },
  {
   "cell_type": "code",
   "execution_count": 8,
   "metadata": {
    "colab": {},
    "colab_type": "code",
    "executionInfo": {
     "elapsed": 36477,
     "status": "ok",
     "timestamp": 1594843547010,
     "user": {
      "displayName": "VICTOR STEFANO ANDREAS FARAGGI",
      "photoUrl": "",
      "userId": "08460300967747505700"
     },
     "user_tz": 240
    },
    "id": "rc04j0bTivnw"
   },
   "outputs": [],
   "source": [
    "# Inputs and Outputs\n",
    "experiments = [\n",
    "    [['t'],             ['t']],\n",
    "    [['z', 't'],        ['t']],\n",
    "    [['z', 't', 't2m'], ['t']],\n",
    "    [['t2m'],           ['t2m']],\n",
    "    [['z', 't'],        ['t2m']],\n",
    "    [['z', 't', 't2m'], ['t2m']],\n",
    "]\n",
    "\n",
    "lead_time = 3*24 # Predict 3 days from current time\n",
    "lead_time_str = '3d'"
   ]
  },
  {
   "cell_type": "markdown",
   "metadata": {
    "colab_type": "text",
    "id": "M0V51OcjwLco"
   },
   "source": [
    "## Run Experiments"
   ]
  },
  {
   "cell_type": "markdown",
   "metadata": {},
   "source": [
    "**X and y need to be transposed in order to be of shape = (feaures, number_examples)**"
   ]
  },
  {
   "cell_type": "markdown",
   "metadata": {},
   "source": [
    "## L - Neural Network"
   ]
  },
  {
   "cell_type": "code",
   "execution_count": 9,
   "metadata": {},
   "outputs": [],
   "source": [
    "from src.ml_training import compute_weighted_rmse, create_X_y_time, unnormalize_preds\n",
    "from src.nn_model import *"
   ]
  },
  {
   "cell_type": "markdown",
   "metadata": {},
   "source": [
    "### Define Model"
   ]
  },
  {
   "cell_type": "code",
   "execution_count": 10,
   "metadata": {},
   "outputs": [],
   "source": [
    "def L_layer_model(X, Y, layers_dims, hidden_acts, final_act, learning_rate = 0.0075, num_iterations = 3000, X_y_val=None, verbose=False):\n",
    "    \"\"\"\n",
    "    Implements a L-layer neural network: [hidden_acts->RELU]*(L-1)->LINEAR->final_act.\n",
    "    \n",
    "    Arguments:\n",
    "    ----------\n",
    "    X              (ndarray) : data, numpy array of shape (features, number of examples)\n",
    "    Y              (ndarray) : true vector, of shape (1, number of examples)\n",
    "    layers_dims    (iterable): Contains the input size and each layer size, of length (number of layers + 1).\n",
    "    final_act      (str)     : Final Layer activation func\n",
    "    hidden_acts    (str)     : Hidden Layers activation func\n",
    "    learning_rate  (float)   : Learning rate of the gradient descent update rule\n",
    "    num_iterations (int)     : Number of iterations of the optimization loop\n",
    "    X_y_val        (iterable): list containing X_val and y_val in order to track cost (optional)\n",
    "    verbose        (bool)    : Verbose level\n",
    "    \n",
    "    Returns:\n",
    "    --------\n",
    "    parameters (dictionary)  : Parameters learnt by the model. They can then be used to predict.\n",
    "    \"\"\"\n",
    "\n",
    "    np.random.seed(1)\n",
    "    costs = []                         # keep track of cost\n",
    "    \n",
    "    if X_y_val is not None:\n",
    "        costs_val = []\n",
    "        cost_val = 0\n",
    "        early_stop_counter = 0\n",
    "        max_early_stops = 2\n",
    "    \n",
    "    parameters = initialize_parameters_deep(layers_dims, Y)\n",
    "    \n",
    "    # Loop (gradient descent)\n",
    "    for i in range(0, num_iterations):\n",
    "\n",
    "        # Forward propagation: [LINEAR -> hidden_act]*(L-1) -> LINEAR -> final_act.\n",
    "        AL, caches = L_model_forward(X, parameters, final_act=final_act, hidden_acts=hidden_acts)\n",
    "        \n",
    "        # Compute cost.\n",
    "        cost = mean_squared_error(AL, Y)\n",
    "    \n",
    "        # Backward propagation.\n",
    "        backprop_cost = lambda AL, y : 2 * (AL - y)\n",
    "        grads = L_model_backward(AL, Y, caches, backprop_cost=backprop_cost, final_act=final_act, hidden_acts=hidden_acts)\n",
    " \n",
    "        # Update parameters.\n",
    "        parameters = update_parameters(parameters, grads, learning_rate)\n",
    "                \n",
    "        # Print the cost every 100 training example\n",
    "        if verbose and i % 100 == 0:\n",
    "            cost_str = \"Iteration %i: Training Cost=%f\" %(i, cost)\n",
    "            costs.append(cost)\n",
    "            if X_y_val is not None:\n",
    "                AL, _ = L_model_forward(X_y_val[0], parameters, final_act=final_act, hidden_acts=hidden_acts)\n",
    "                cost_val_prev = cost_val\n",
    "                cost_val = mean_squared_error(AL, X_y_val[1])\n",
    "                \n",
    "                # early stopping\n",
    "                difference = abs(cost_val_prev - cost_val)\n",
    "                if difference <= 0.00001:\n",
    "                    print(f'Validation Cost improved only: {difference}!')\n",
    "                    early_stop_counter += 1\n",
    "                    if early_stop_counter >= max_early_stops:\n",
    "                        print(f'Early stopping triggered.')\n",
    "                        break\n",
    "                    \n",
    "                costs_val.append(cost_val)\n",
    "                \n",
    "                cost_str += \", Validation Cost=%f\" % (cost_val)\n",
    "                \n",
    "            print(cost_str)\n",
    "               \n",
    "    # plot the cost\n",
    "    if X_y_val is None:\n",
    "        plt.plot(np.squeeze(costs))\n",
    "        plt.ylabel('cost')\n",
    "        plt.xlabel('iterations (per hundreds)')\n",
    "        plt.title(\"Learning rate =\" + str(learning_rate))\n",
    "        plt.show()\n",
    "    else: # Train and val cost\n",
    "        plt.plot(np.squeeze(costs))\n",
    "        plt.ylabel('cost')\n",
    "        plt.xlabel('iterations (per hundreds)')\n",
    "        plt.title(\"Learning rate =\" + str(learning_rate))\n",
    "        plt.show()\n",
    "        \n",
    "    return parameters\n",
    "    "
   ]
  },
  {
   "cell_type": "code",
   "execution_count": 11,
   "metadata": {},
   "outputs": [],
   "source": [
    "def train_nn(model, data, extra_args, verbose):\n",
    "    \"\"\"\n",
    "    Train a Neural Network model and return the predictions.\n",
    "    \n",
    "    Arguments:\n",
    "    ----------\n",
    "    model       (func)   : NN model (`L_layer_model` func as example)\n",
    "    data      (iterable) : Contains X_train, y_train, X_val, y_val, nlat, nlon\n",
    "    extra_args  (dict)   : Extra arguments to be passed to the model (e.g. learning rate, num iterations)\n",
    "    verbose     (bool)   : Verbose level\n",
    "    \n",
    "    Returns:\n",
    "    -------\n",
    "    pred_ds (xr.Dataset) : predictions dataset\n",
    "    parametes   (dict)   : parameters of fitted model\n",
    "    mse_train            : mse_train \n",
    "    mse_val              : mse_val\n",
    "    \"\"\"\n",
    "    \n",
    "    X_train, y_train, X_val, y_val, nlat, nlon = data\n",
    "    \n",
    "    layers_dims = extra_args['layers_dims']\n",
    "    layers_dims[0] = X_train.shape[0]\n",
    "    layers_dims[-1] = y_train.shape[0]\n",
    "    extra_args['layers_dims'] = layers_dims\n",
    "    extra_args['X_y_val'] = X_val, y_val\n",
    "    \n",
    "    parameters = L_layer_model(X_train, y_train, **extra_args)\n",
    "    mse_train = mean_squared_error(y_train, predict(X_train, y=None, parameters=parameters))\n",
    "    mse_val  = mean_squared_error(y_val,   predict(X_val, y=None, parameters=parameters))\n",
    "    \n",
    "    \n",
    "    if verbose:\n",
    "        print(f'Train MSE = {mse_train}')\n",
    "        print(f'Test  MSE = {mse_val}')\n",
    "    \n",
    "    preds = predict(X_val, y=None, parameters=parameters).T.reshape((-1, nlat, nlon))\n",
    "    return preds, parameters, mse_train, mse_val\n"
   ]
  },
  {
   "cell_type": "markdown",
   "metadata": {},
   "source": [
    "### Model Parameters"
   ]
  },
  {
   "cell_type": "code",
   "execution_count": 12,
   "metadata": {
    "colab": {
     "base_uri": "https://localhost:8080/",
     "height": 644
    },
    "colab_type": "code",
    "executionInfo": {
     "elapsed": 218645,
     "status": "ok",
     "timestamp": 1594843729184,
     "user": {
      "displayName": "VICTOR STEFANO ANDREAS FARAGGI",
      "photoUrl": "",
      "userId": "08460300967747505700"
     },
     "user_tz": 240
    },
    "id": "hpiEmzkhizzN",
    "outputId": "38f9473a-a74f-406e-d6ac-6512c64c966f",
    "scrolled": false
   },
   "outputs": [],
   "source": [
    "preds  = {\n",
    "    'nn_1': [],\n",
    "}\n",
    "\n",
    "models = {\n",
    "    'nn_1': [],\n",
    "}\n",
    "\n",
    "train_mse = {\n",
    "    'nn_1': [],\n",
    "}\n",
    "\n",
    "test_mse = {\n",
    "    'nn_1': [],\n",
    "}\n",
    "\n",
    "weighted_mse = {\n",
    "    'nn_1': [],\n",
    "}\n",
    "\n",
    "\n",
    "\n",
    "model_args = [\n",
    "    [\n",
    "        L_layer_model,       \n",
    "        'nn_1', \n",
    "        {\n",
    "            'layers_dims' : [None, 128, 64, 32, None],\n",
    "            'hidden_acts' : 'relu',\n",
    "            'final_act' : 'relu',\n",
    "            'learning_rate' : 0.03, # default .0075\n",
    "            'num_iterations' : 1000,  # default / 2 to speed up\n",
    "            'verbose' : True\n",
    "        }\n",
    "    ], \n",
    "]"
   ]
  },
  {
   "cell_type": "markdown",
   "metadata": {},
   "source": [
    "### Training NN"
   ]
  },
  {
   "cell_type": "code",
   "execution_count": 13,
   "metadata": {
    "scrolled": false
   },
   "outputs": [
    {
     "name": "stdout",
     "output_type": "stream",
     "text": [
      "Running: nn_1\n",
      "0: Input variables = ['t']; output variables = ['t']\n",
      "Iteration 0: Training Cost=0.278757, Validation Cost=8.502282\n",
      "Iteration 100: Training Cost=0.268928, Validation Cost=0.270756\n",
      "Iteration 200: Training Cost=0.268986, Validation Cost=0.270823\n",
      "Iteration 300: Training Cost=0.268966, Validation Cost=0.270807\n",
      "Validation Cost improved only: 2.240554909382908e-07!\n",
      "Iteration 400: Training Cost=0.268966, Validation Cost=0.270807\n",
      "Validation Cost improved only: 9.322094473573905e-07!\n",
      "Early stopping triggered.\n"
     ]
    },
    {
     "data": {
      "image/png": "[encoded data removed]",
      "text/plain": [
       "<Figure size 432x288 with 1 Axes>"
      ]
     },
     "metadata": {
      "needs_background": "light"
     },
     "output_type": "display_data"
    },
    {
     "name": "stdout",
     "output_type": "stream",
     "text": [
      "Train MSE = 0.2689594069759649\n",
      "Test  MSE = 0.27080562330093394\n",
      "t = 41.738083470903554\n",
      "\n",
      "1: Input variables = ['z', 't']; output variables = ['t']\n",
      "Iteration 0: Training Cost=0.283069, Validation Cost=20.239829\n",
      "Iteration 100: Training Cost=0.365127, Validation Cost=0.367622\n",
      "Validation Cost improved only: 0.0!\n",
      "Iteration 200: Training Cost=0.365127, Validation Cost=0.367622\n",
      "Validation Cost improved only: 0.0!\n",
      "Early stopping triggered.\n"
     ]
    },
    {
     "data": {
      "image/png": "[encoded data removed]",
      "text/plain": [
       "<Figure size 432x288 with 1 Axes>"
      ]
     },
     "metadata": {
      "needs_background": "light"
     },
     "output_type": "display_data"
    },
    {
     "name": "stdout",
     "output_type": "stream",
     "text": [
      "Train MSE = 0.3651268120863165\n",
      "Test  MSE = 0.3676220571205884\n",
      "t = 48.36457123589316\n",
      "\n",
      "2: Input variables = ['z', 't', 't2m']; output variables = ['t']\n",
      "Iteration 0: Training Cost=0.296881, Validation Cost=26.554208\n",
      "Iteration 100: Training Cost=0.365127, Validation Cost=0.367622\n",
      "Validation Cost improved only: 0.0!\n",
      "Iteration 200: Training Cost=0.365127, Validation Cost=0.367622\n",
      "Validation Cost improved only: 0.0!\n",
      "Early stopping triggered.\n"
     ]
    },
    {
     "data": {
      "image/png": "[encoded data removed]",
      "text/plain": [
       "<Figure size 432x288 with 1 Axes>"
      ]
     },
     "metadata": {
      "needs_background": "light"
     },
     "output_type": "display_data"
    },
    {
     "name": "stdout",
     "output_type": "stream",
     "text": [
      "Train MSE = 0.3651268120863165\n",
      "Test  MSE = 0.3676220571205884\n",
      "t = 48.36457123589316\n",
      "\n",
      "3: Input variables = ['t2m']; output variables = ['t2m']\n",
      "Iteration 0: Training Cost=0.281923, Validation Cost=8.510066\n",
      "Iteration 100: Training Cost=0.249459, Validation Cost=0.249912\n",
      "Validation Cost improved only: 6.432425312619117e-06!\n",
      "Iteration 200: Training Cost=0.249453, Validation Cost=0.249906\n",
      "Validation Cost improved only: 4.865570834705624e-06!\n",
      "Early stopping triggered.\n"
     ]
    },
    {
     "data": {
      "image/png": "[encoded data removed]",
      "text/plain": [
       "<Figure size 432x288 with 1 Axes>"
      ]
     },
     "metadata": {
      "needs_background": "light"
     },
     "output_type": "display_data"
    },
    {
     "name": "stdout",
     "output_type": "stream",
     "text": [
      "Train MSE = 0.24944785996839394\n",
      "Test  MSE = 0.24990065319566554\n",
      "t2m = 47.30640992934008\n",
      "\n",
      "4: Input variables = ['z', 't']; output variables = ['t2m']\n",
      "Iteration 0: Training Cost=0.283878, Validation Cost=22.850306\n",
      "Iteration 100: Training Cost=0.367536, Validation Cost=0.368282\n",
      "Validation Cost improved only: 0.0!\n",
      "Iteration 200: Training Cost=0.367536, Validation Cost=0.368282\n",
      "Validation Cost improved only: 0.0!\n",
      "Early stopping triggered.\n"
     ]
    },
    {
     "data": {
      "image/png": "[encoded data removed]",
      "text/plain": [
       "<Figure size 432x288 with 1 Axes>"
      ]
     },
     "metadata": {
      "needs_background": "light"
     },
     "output_type": "display_data"
    },
    {
     "name": "stdout",
     "output_type": "stream",
     "text": [
      "Train MSE = 0.3675361061059901\n",
      "Test  MSE = 0.36828171596538045\n",
      "t2m = 57.93561816462986\n",
      "\n",
      "5: Input variables = ['z', 't', 't2m']; output variables = ['t2m']\n",
      "Iteration 0: Training Cost=0.298819, Validation Cost=26.816518\n",
      "Iteration 100: Training Cost=0.367536, Validation Cost=0.368282\n",
      "Validation Cost improved only: 0.0!\n",
      "Iteration 200: Training Cost=0.367536, Validation Cost=0.368282\n",
      "Validation Cost improved only: 0.0!\n",
      "Early stopping triggered.\n"
     ]
    },
    {
     "data": {
      "image/png": "[encoded data removed]",
      "text/plain": [
       "<Figure size 432x288 with 1 Axes>"
      ]
     },
     "metadata": {
      "needs_background": "light"
     },
     "output_type": "display_data"
    },
    {
     "name": "stdout",
     "output_type": "stream",
     "text": [
      "Train MSE = 0.3675361061059901\n",
      "Test  MSE = 0.36828171596538045\n",
      "t2m = 57.93561816462986\n",
      "\n",
      "----------------------------------------------------------------------------\n"
     ]
    }
   ],
   "source": [
    "for model_arg in model_args:\n",
    "    model_fun, model_str, extra_args = model_arg\n",
    "    \n",
    "    print('Running:', model_str)\n",
    "    for idx, (i, o) in enumerate(experiments):\n",
    "        print(f'{idx}: Input variables = {i}; output variables = {o}')\n",
    "        X_train, y_train, X_test, y_test, time = create_X_y_time(input_vars=i, \n",
    "                                                             output_vars=o, \n",
    "                                                             data=[train_min_max, test_min_max], \n",
    "                                                             lead_time=lead_time, \n",
    "                                                             data_subsample=5)\n",
    "\n",
    "        data_needed_train = [X_train.T, y_train.T, X_test.T, y_test.T, nlat, nlon]\n",
    "\n",
    "        predictions, model_res, mse_train, mse_test = train_nn(model=model_fun,\n",
    "                                                               data=data_needed_train,\n",
    "                                                               extra_args=extra_args,\n",
    "                                                               verbose=True)\n",
    "\n",
    "        predictions = unnormalize_preds(preds=predictions, \n",
    "                                        output_vars=o, \n",
    "                                        valid_time=time, \n",
    "                                        lat_lon=[data_train.lat, data_train.lon],\n",
    "                                        data_min=data_min,\n",
    "                                        data_max=data_max)\n",
    "\n",
    "        preds[model_str].append(predictions)\n",
    "        models[model_str].append(model_res)\n",
    "\n",
    "        # Compute Weighted RMSE: RMSE with a weight that takes into account grid location\n",
    "        r = compute_weighted_rmse(predictions, data).compute()\n",
    "        if True:\n",
    "            print('; '.join([f'{v} = {r[v].values}' for v in r]) + '\\n')\n",
    "\n",
    "        train_mse[model_str].append(mse_train)\n",
    "        test_mse[model_str].append(mse_test)\n",
    "        weighted_mse[model_str].append(r)\n",
    "\n",
    "        # Save models\n",
    "        preds_nc_str  = f'{results}/{model_str}_{lead_time_str}_{\"_\".join(i)}_{\"_\".join(o)}.nc'\n",
    "        model_res_str = f'{results}/{model_str}_{lead_time_str}_{\"_\".join(i)}_{\"_\".join(o)}.pkl'\n",
    "\n",
    "        predictions.to_netcdf(preds_nc_str)\n",
    "        to_pickle(model_res, model_res_str)\n",
    "print('----------------------------------------------------------------------------')"
   ]
  },
  {
   "cell_type": "code",
   "execution_count": 23,
   "metadata": {},
   "outputs": [
    {
     "name": "stdout",
     "output_type": "stream",
     "text": [
      "nn_1\n",
      "nn_1\n",
      "\n",
      "Number of rows equals number of metrics?  True\n",
      "6 6\n"
     ]
    },
    {
     "data": {
      "text/html": [
       "<div>\n",
       "<style scoped>\n",
       "    .dataframe tbody tr th:only-of-type {\n",
       "        vertical-align: middle;\n",
       "    }\n",
       "\n",
       "    .dataframe tbody tr th {\n",
       "        vertical-align: top;\n",
       "    }\n",
       "\n",
       "    .dataframe thead th {\n",
       "        text-align: right;\n",
       "    }\n",
       "</style>\n",
       "<table border=\"1\" class=\"dataframe\">\n",
       "  <thead>\n",
       "    <tr style=\"text-align: right;\">\n",
       "      <th></th>\n",
       "      <th>model</th>\n",
       "      <th>input</th>\n",
       "      <th>output</th>\n",
       "      <th>train_mse</th>\n",
       "      <th>test_mse</th>\n",
       "      <th>weighted_mse</th>\n",
       "    </tr>\n",
       "  </thead>\n",
       "  <tbody>\n",
       "    <tr>\n",
       "      <th>0</th>\n",
       "      <td>nn_1</td>\n",
       "      <td>[t]</td>\n",
       "      <td>t</td>\n",
       "      <td>0.268959</td>\n",
       "      <td>0.270806</td>\n",
       "      <td>41.7381</td>\n",
       "    </tr>\n",
       "    <tr>\n",
       "      <th>1</th>\n",
       "      <td>nn_1</td>\n",
       "      <td>[z, t]</td>\n",
       "      <td>t</td>\n",
       "      <td>0.365127</td>\n",
       "      <td>0.367622</td>\n",
       "      <td>48.3646</td>\n",
       "    </tr>\n",
       "    <tr>\n",
       "      <th>2</th>\n",
       "      <td>nn_1</td>\n",
       "      <td>[z, t, t2m]</td>\n",
       "      <td>t</td>\n",
       "      <td>0.365127</td>\n",
       "      <td>0.367622</td>\n",
       "      <td>48.3646</td>\n",
       "    </tr>\n",
       "    <tr>\n",
       "      <th>3</th>\n",
       "      <td>nn_1</td>\n",
       "      <td>[t2m]</td>\n",
       "      <td>t2m</td>\n",
       "      <td>0.249448</td>\n",
       "      <td>0.249901</td>\n",
       "      <td>47.3064</td>\n",
       "    </tr>\n",
       "    <tr>\n",
       "      <th>4</th>\n",
       "      <td>nn_1</td>\n",
       "      <td>[z, t]</td>\n",
       "      <td>t2m</td>\n",
       "      <td>0.367536</td>\n",
       "      <td>0.368282</td>\n",
       "      <td>57.9356</td>\n",
       "    </tr>\n",
       "    <tr>\n",
       "      <th>5</th>\n",
       "      <td>nn_1</td>\n",
       "      <td>[z, t, t2m]</td>\n",
       "      <td>t2m</td>\n",
       "      <td>0.367536</td>\n",
       "      <td>0.368282</td>\n",
       "      <td>57.9356</td>\n",
       "    </tr>\n",
       "  </tbody>\n",
       "</table>\n",
       "</div>"
      ],
      "text/plain": [
       "  model        input output  train_mse  test_mse  weighted_mse\n",
       "0  nn_1          [t]      t   0.268959  0.270806       41.7381\n",
       "1  nn_1       [z, t]      t   0.365127  0.367622       48.3646\n",
       "2  nn_1  [z, t, t2m]      t   0.365127  0.367622       48.3646\n",
       "3  nn_1        [t2m]    t2m   0.249448  0.249901       47.3064\n",
       "4  nn_1       [z, t]    t2m   0.367536  0.368282       57.9356\n",
       "5  nn_1  [z, t, t2m]    t2m   0.367536  0.368282       57.9356"
      ]
     },
     "execution_count": 23,
     "metadata": {},
     "output_type": "execute_result"
    }
   ],
   "source": [
    "import pandas as pd\n",
    "\n",
    "results_df = pd.DataFrame(columns=['model', 'input', 'output',  'train_mse', 'test_mse', 'weighted_mse'])\n",
    "\n",
    "block_rows = []\n",
    "for key in models.keys():\n",
    "    print(key)\n",
    "    # repeat key as many time as needed to have a long df\n",
    "    first_three_cols = np.hstack((np.array([key] * len(experiments)).reshape(len(experiments),1), \n",
    "                                  np.array(experiments, dtype='object')))\n",
    "    block_rows.append(first_three_cols)\n",
    "    \n",
    "block_rows = np.array(block_rows).reshape(len(models.keys()) * len(experiments), 3) \n",
    "\n",
    "results_df['model'] = block_rows[:, 0]\n",
    "results_df['input'] = block_rows[:, 1]\n",
    "results_df['output'] = block_rows[:, 2]\n",
    "\n",
    "\n",
    "train_mse_col = []\n",
    "for model, ds_list in train_mse.items():\n",
    "    train_mse_col += ds_list\n",
    "\n",
    "test_mse_col = []\n",
    "for model, ds_list in test_mse.items():\n",
    "    test_mse_col += ds_list\n",
    "    \n",
    "\n",
    "weighted_mse_col = []\n",
    "for model, ds_list in weighted_mse.items():\n",
    "    print(model)\n",
    "    model_metrics = []\n",
    "    for ds in ds_list:\n",
    "        exp_metrics = []\n",
    "        for var in list(ds.variables):\n",
    "            exp_metrics.append(round(float(ds[var].values), 4))\n",
    "\n",
    "        model_metrics.append(exp_metrics)\n",
    "    weighted_mse_col += model_metrics\n",
    "\n",
    "    \n",
    "print('\\nNumber of rows equals number of metrics? ', results_df.shape[0] == len(train_mse_col))\n",
    "print(results_df.shape[0], len(train_mse_col))\n",
    "\n",
    "\n",
    "results_df['train_mse'] = train_mse_col\n",
    "results_df['test_mse'] = test_mse_col\n",
    "\n",
    "results_df['weighted_mse'] = weighted_mse_col\n",
    "results_df['weighted_mse'] = results_df['weighted_mse'].apply(lambda x : x[0])\n",
    "\n",
    "results_df['output'] = results_df['output'].apply(lambda x: x[0])\n",
    "\n",
    "results_df.to_csv('results_nn.csv')\n",
    "\n",
    "results_df"
   ]
  },
  {
   "cell_type": "code",
   "execution_count": 24,
   "metadata": {},
   "outputs": [],
   "source": [
    "import seaborn as sns\n",
    "sns.set_style('darkgrid')"
   ]
  },
  {
   "cell_type": "code",
   "execution_count": 25,
   "metadata": {
    "colab": {},
    "colab_type": "code",
    "executionInfo": {
     "elapsed": 987950,
     "status": "ok",
     "timestamp": 1594844498531,
     "user": {
      "displayName": "VICTOR STEFANO ANDREAS FARAGGI",
      "photoUrl": "",
      "userId": "08460300967747505700"
     },
     "user_tz": 240
    },
    "id": "kPXhJzIuKw4G"
   },
   "outputs": [
    {
     "data": {
      "image/png": "[encoded data removed]",
      "text/plain": [
       "<Figure size 1296x360 with 3 Axes>"
      ]
     },
     "metadata": {},
     "output_type": "display_data"
    }
   ],
   "source": [
    "f, axs = plt.subplots(nrows=1, ncols=3, figsize=(18, 5))\n",
    "\n",
    "sns.barplot(data=results_df, x='model', y='train_mse', hue='output', ax=axs[0])\n",
    "sns.barplot(data=results_df, x='model', y='test_mse',  hue='output',ax=axs[1])\n",
    "sns.barplot(data=results_df, x='model', y='weighted_mse', hue='output', ax=axs[2])\n",
    "\n",
    "plt.savefig('results/nn_mse.png')\n",
    "plt.show()"
   ]
  },
  {
   "cell_type": "code",
   "execution_count": 26,
   "metadata": {},
   "outputs": [
    {
     "data": {
      "image/png": "[encoded data removed]",
      "text/plain": [
       "<Figure size 432x288 with 2 Axes>"
      ]
     },
     "metadata": {},
     "output_type": "display_data"
    },
    {
     "data": {
      "image/png": "[encoded data removed]",
      "text/plain": [
       "<Figure size 432x288 with 2 Axes>"
      ]
     },
     "metadata": {},
     "output_type": "display_data"
    }
   ],
   "source": [
    "best_pred_t2m = xr.open_dataset('results/nn_1_3d_t2m_t2m.nc')\n",
    "best_pred_t2m.t2m.mean('time').plot()\n",
    "plt.show()\n",
    "\n",
    "(best_pred_t2m * (data_max - data_min)['t2m'] +  data_min['t2m']).mean('time').t2m.plot()\n",
    "f.savefig('results/nn_1_3d_t2m_t2m__difference.png')\n",
    "plt.show()"
   ]
  },
  {
   "cell_type": "code",
   "execution_count": 27,
   "metadata": {},
   "outputs": [
    {
     "data": {
      "image/png": "[encoded data removed]",
      "text/plain": [
       "<Figure size 432x288 with 2 Axes>"
      ]
     },
     "metadata": {},
     "output_type": "display_data"
    },
    {
     "data": {
      "image/png": "[encoded data removed]",
      "text/plain": [
       "<Figure size 432x288 with 2 Axes>"
      ]
     },
     "metadata": {},
     "output_type": "display_data"
    }
   ],
   "source": [
    "best_pred_t = xr.open_dataset('results/nn_1_3d_t_t.nc')\n",
    "best_pred_t.t.mean('time').plot()\n",
    "plt.show()\n",
    "\n",
    "(best_pred_t * (data_max - data_min)['t'] +  data_min['t']).mean('time')['t'].plot()\n",
    "f.savefig('results/nn_1_3d_t_t__difference.png')\n",
    "plt.show()"
   ]
  },
  {
   "cell_type": "code",
   "execution_count": null,
   "metadata": {},
   "outputs": [],
   "source": []
  }
 ],
 "metadata": {
  "colab": {
   "authorship_tag": "ABX9TyOTr8q3dvXGGpE+a+GL1+es",
   "collapsed_sections": [],
   "name": "ProyectoProbStatsDA - LinearRegression_1.ipynb",
   "provenance": []
  },
  "kernelspec": {
   "display_name": "Python 3",
   "language": "python",
   "name": "python3"
  },
  "language_info": {
   "codemirror_mode": {
    "name": "ipython",
    "version": 3
   },
   "file_extension": ".py",
   "mimetype": "text/x-python",
   "name": "python",
   "nbconvert_exporter": "python",
   "pygments_lexer": "ipython3",
   "version": "3.7.3"
  },
  "widgets": {
   "application/vnd.jupyter.widget-state+json": {
    "082dd7cc9ae14b61a2489f915627285e": {
     "model_module": "@jupyter-widgets/base",
     "model_name": "LayoutModel",
     "state": {
      "_model_module": "@jupyter-widgets/base",
      "_model_module_version": "1.2.0",
      "_model_name": "LayoutModel",
      "_view_count": null,
      "_view_module": "@jupyter-widgets/base",
      "_view_module_version": "1.2.0",
      "_view_name": "LayoutView",
      "align_content": null,
      "align_items": null,
      "align_self": null,
      "border": null,
      "bottom": null,
      "display": null,
      "flex": null,
      "flex_flow": null,
      "grid_area": null,
      "grid_auto_columns": null,
      "grid_auto_flow": null,
      "grid_auto_rows": null,
      "grid_column": null,
      "grid_gap": null,
      "grid_row": null,
      "grid_template_areas": null,
      "grid_template_columns": null,
      "grid_template_rows": null,
      "height": null,
      "justify_content": null,
      "justify_items": null,
      "left": null,
      "margin": null,
      "max_height": null,
      "max_width": null,
      "min_height": null,
      "min_width": null,
      "object_fit": null,
      "object_position": null,
      "order": null,
      "overflow": null,
      "overflow_x": null,
      "overflow_y": null,
      "padding": null,
      "right": null,
      "top": null,
      "visibility": null,
      "width": null
     }
    },
    "1910f13a9f4f41f19204694e234aae0e": {
     "model_module": "@jupyter-widgets/base",
     "model_name": "LayoutModel",
     "state": {
      "_model_module": "@jupyter-widgets/base",
      "_model_module_version": "1.2.0",
      "_model_name": "LayoutModel",
      "_view_count": null,
      "_view_module": "@jupyter-widgets/base",
      "_view_module_version": "1.2.0",
      "_view_name": "LayoutView",
      "align_content": null,
      "align_items": null,
      "align_self": null,
      "border": null,
      "bottom": null,
      "display": null,
      "flex": null,
      "flex_flow": null,
      "grid_area": null,
      "grid_auto_columns": null,
      "grid_auto_flow": null,
      "grid_auto_rows": null,
      "grid_column": null,
      "grid_gap": null,
      "grid_row": null,
      "grid_template_areas": null,
      "grid_template_columns": null,
      "grid_template_rows": null,
      "height": null,
      "justify_content": null,
      "justify_items": null,
      "left": null,
      "margin": null,
      "max_height": null,
      "max_width": null,
      "min_height": null,
      "min_width": null,
      "object_fit": null,
      "object_position": null,
      "order": null,
      "overflow": null,
      "overflow_x": null,
      "overflow_y": null,
      "padding": null,
      "right": null,
      "top": null,
      "visibility": null,
      "width": null
     }
    },
    "1a7e4ab2a400435ebbcb87010eaaaa49": {
     "model_module": "@jupyter-widgets/controls",
     "model_name": "FloatProgressModel",
     "state": {
      "_dom_classes": [],
      "_model_module": "@jupyter-widgets/controls",
      "_model_module_version": "1.5.0",
      "_model_name": "FloatProgressModel",
      "_view_count": null,
      "_view_module": "@jupyter-widgets/controls",
      "_view_module_version": "1.5.0",
      "_view_name": "ProgressView",
      "bar_style": "success",
      "description": "100%",
      "description_tooltip": null,
      "layout": "IPY_MODEL_1910f13a9f4f41f19204694e234aae0e",
      "max": 20,
      "min": 0,
      "orientation": "horizontal",
      "style": "IPY_MODEL_d08e0f2bbeee4720b62f2b3c7ce8c36b",
      "value": 20
     }
    },
    "4dd7367715114f2cb8e71586521dd7be": {
     "model_module": "@jupyter-widgets/controls",
     "model_name": "HTMLModel",
     "state": {
      "_dom_classes": [],
      "_model_module": "@jupyter-widgets/controls",
      "_model_module_version": "1.5.0",
      "_model_name": "HTMLModel",
      "_view_count": null,
      "_view_module": "@jupyter-widgets/controls",
      "_view_module_version": "1.5.0",
      "_view_name": "HTMLView",
      "description": "",
      "description_tooltip": null,
      "layout": "IPY_MODEL_082dd7cc9ae14b61a2489f915627285e",
      "placeholder": "​",
      "style": "IPY_MODEL_8ecf29118794450ba70618957acad07d",
      "value": " 20/20 [00:02&lt;00:00,  8.22it/s]"
     }
    },
    "67634b29066a4884992a64e4284d24c4": {
     "model_module": "@jupyter-widgets/controls",
     "model_name": "HBoxModel",
     "state": {
      "_dom_classes": [],
      "_model_module": "@jupyter-widgets/controls",
      "_model_module_version": "1.5.0",
      "_model_name": "HBoxModel",
      "_view_count": null,
      "_view_module": "@jupyter-widgets/controls",
      "_view_module_version": "1.5.0",
      "_view_name": "HBoxView",
      "box_style": "",
      "children": [
       "IPY_MODEL_1a7e4ab2a400435ebbcb87010eaaaa49",
       "IPY_MODEL_4dd7367715114f2cb8e71586521dd7be"
      ],
      "layout": "IPY_MODEL_7a512212bd8445d4a0833b1d8936ac02"
     }
    },
    "7a512212bd8445d4a0833b1d8936ac02": {
     "model_module": "@jupyter-widgets/base",
     "model_name": "LayoutModel",
     "state": {
      "_model_module": "@jupyter-widgets/base",
      "_model_module_version": "1.2.0",
      "_model_name": "LayoutModel",
      "_view_count": null,
      "_view_module": "@jupyter-widgets/base",
      "_view_module_version": "1.2.0",
      "_view_name": "LayoutView",
      "align_content": null,
      "align_items": null,
      "align_self": null,
      "border": null,
      "bottom": null,
      "display": null,
      "flex": null,
      "flex_flow": null,
      "grid_area": null,
      "grid_auto_columns": null,
      "grid_auto_flow": null,
      "grid_auto_rows": null,
      "grid_column": null,
      "grid_gap": null,
      "grid_row": null,
      "grid_template_areas": null,
      "grid_template_columns": null,
      "grid_template_rows": null,
      "height": null,
      "justify_content": null,
      "justify_items": null,
      "left": null,
      "margin": null,
      "max_height": null,
      "max_width": null,
      "min_height": null,
      "min_width": null,
      "object_fit": null,
      "object_position": null,
      "order": null,
      "overflow": null,
      "overflow_x": null,
      "overflow_y": null,
      "padding": null,
      "right": null,
      "top": null,
      "visibility": null,
      "width": null
     }
    },
    "8ecf29118794450ba70618957acad07d": {
     "model_module": "@jupyter-widgets/controls",
     "model_name": "DescriptionStyleModel",
     "state": {
      "_model_module": "@jupyter-widgets/controls",
      "_model_module_version": "1.5.0",
      "_model_name": "DescriptionStyleModel",
      "_view_count": null,
      "_view_module": "@jupyter-widgets/base",
      "_view_module_version": "1.2.0",
      "_view_name": "StyleView",
      "description_width": ""
     }
    },
    "d08e0f2bbeee4720b62f2b3c7ce8c36b": {
     "model_module": "@jupyter-widgets/controls",
     "model_name": "ProgressStyleModel",
     "state": {
      "_model_module": "@jupyter-widgets/controls",
      "_model_module_version": "1.5.0",
      "_model_name": "ProgressStyleModel",
      "_view_count": null,
      "_view_module": "@jupyter-widgets/base",
      "_view_module_version": "1.2.0",
      "_view_name": "StyleView",
      "bar_color": null,
      "description_width": "initial"
     }
    }
   }
  }
 },
 "nbformat": 4,
 "nbformat_minor": 1
}
